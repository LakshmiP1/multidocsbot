{
 "cells": [
  {
   "cell_type": "code",
   "execution_count": 1,
   "metadata": {},
   "outputs": [],
   "source": [
    "from langchain_community.document_loaders import DirectoryLoader"
   ]
  },
  {
   "cell_type": "code",
   "execution_count": 2,
   "metadata": {},
   "outputs": [
    {
     "name": "stderr",
     "output_type": "stream",
     "text": [
      "USER_AGENT environment variable not set, consider setting it to identify your requests.\n"
     ]
    }
   ],
   "source": [
    "from langchain_community.document_loaders import WebBaseLoader"
   ]
  },
  {
   "cell_type": "code",
   "execution_count": 3,
   "metadata": {},
   "outputs": [],
   "source": [
    "from langchain_community.document_loaders.csv_loader import UnstructuredCSVLoader"
   ]
  },
  {
   "cell_type": "code",
   "execution_count": 4,
   "metadata": {},
   "outputs": [],
   "source": [
    "from langchain_community.document_loaders import UnstructuredPDFLoader,PyPDFLoader,TextLoader"
   ]
  },
  {
   "cell_type": "code",
   "execution_count": 8,
   "metadata": {},
   "outputs": [
    {
     "name": "stdout",
     "output_type": "stream",
     "text": [
      "Collecting python-dotenv\n",
      "  Using cached python_dotenv-1.0.1-py3-none-any.whl (19 kB)\n",
      "Installing collected packages: python-dotenv\n",
      "Successfully installed python-dotenv-1.0.1\n",
      "Note: you may need to restart the kernel to use updated packages.\n"
     ]
    },
    {
     "name": "stderr",
     "output_type": "stream",
     "text": [
      "WARNING: You are using pip version 22.0.4; however, version 24.1.1 is available.\n",
      "You should consider upgrading via the 'e:\\multidocsbot\\venv\\Scripts\\python.exe -m pip install --upgrade pip' command.\n"
     ]
    }
   ],
   "source": [
    "%pip install python-dotenv"
   ]
  },
  {
   "cell_type": "code",
   "execution_count": 20,
   "metadata": {},
   "outputs": [],
   "source": [
    "import os"
   ]
  },
  {
   "cell_type": "code",
   "execution_count": 9,
   "metadata": {},
   "outputs": [],
   "source": [
    "from dotenv import load_dotenv"
   ]
  },
  {
   "cell_type": "code",
   "execution_count": 21,
   "metadata": {},
   "outputs": [],
   "source": [
    "from langchain.document_loaders import Docx2txtLoader"
   ]
  },
  {
   "cell_type": "code",
   "execution_count": 29,
   "metadata": {},
   "outputs": [],
   "source": [
    "from langchain_community.document_loaders.csv_loader import CSVLoader"
   ]
  },
  {
   "cell_type": "code",
   "execution_count": 45,
   "metadata": {},
   "outputs": [],
   "source": [
    "file_path = \"E:/multidocsbot/data/Medical_book.pdf\"\n",
    "file_path1 = \"E:/multidocsbot/data/model accuracy and performance.txt\"\n",
    "file_path2 = \"E:/multidocsbot/data/2019.csv\"\n",
    "#file_path3 = \"E:/multidocsbot/data/model accuracy and performance.txt\""
   ]
  },
  {
   "cell_type": "code",
   "execution_count": 46,
   "metadata": {},
   "outputs": [],
   "source": [
    "pdf_loader = PyPDFLoader(file_path)#, glob=\"**/*.pdf\")#, loader_cls=PyPDFLoader)\n",
    "text_loader = TextLoader(file_path1)#, glob=\"**/*.txt\", loader_cls=TextLoader)\n",
    "web_loader = WebBaseLoader(\"https://www.espn.com/\")\n",
    "csv_loader = CSVLoader(file_path2, encoding=\"utf-8\", csv_args={'delimiter': ','})"
   ]
  },
  {
   "cell_type": "code",
   "execution_count": 47,
   "metadata": {},
   "outputs": [],
   "source": [
    "#take all the loader\n",
    "#csv_loader = CSVLoader(file_path=\"E:\\multidocsbot\\data\\Customers.xlsx\")\n",
    "loaders = [text_loader,web_loader,pdf_loader,csv_loader]\n",
    "\n",
    "documents = []\n",
    "for loader in loaders:\n",
    "    documents.extend(loader.load())\n",
    "    #print(f\"Error loading from: {loader.file_path}\")"
   ]
  },
  {
   "cell_type": "code",
   "execution_count": 48,
   "metadata": {},
   "outputs": [
    {
     "data": {
      "text/plain": [
       "795"
      ]
     },
     "execution_count": 48,
     "metadata": {},
     "output_type": "execute_result"
    }
   ],
   "source": [
    "len(documents)"
   ]
  },
  {
   "cell_type": "code",
   "execution_count": 58,
   "metadata": {},
   "outputs": [
    {
     "data": {
      "text/plain": [
       "Document(page_content=\"\\n1. Model accuracy is not of great importance in imbalanced datasets. In those cases, we look at other performance metrics like sensitivity, specificity , f1-score etc.\\n\\n2. Spam detection, stock market crash are examples where false positives are important.\\n \\nReason being, its more problematic when model says your email is a spam but in reality its not. So you will miss out on an imp one. \\n\\nAlso, stock market crash, where the model predicted that the market is not gonna crash, \\ninvestor invests in loads of money but it actually crashes and then the investor looses all of the money invested.\\n\\nFalse negative in stock market crash is a lost opportunity.\\n\\n3. Examples where False negative is important are healthcare and risk compliance/sanction models.\\n When model says the person doesn't have cancer, but in reality the person has cancer. So the person will miss out on imp medications. \\nAlso, risk models like customer risk ranking model, where the model predicts the customer to be non-risky but actually the customer is risky. \\nAnd the consequence being, the bank allows such customers to do business with them and end up in a mess where they perform suspicious activity like money laundering.\", metadata={'source': 'E:/multidocsbot/data/model accuracy and performance.txt'})"
      ]
     },
     "execution_count": 58,
     "metadata": {},
     "output_type": "execute_result"
    }
   ],
   "source": [
    "documents[0]"
   ]
  },
  {
   "cell_type": "code",
   "execution_count": null,
   "metadata": {},
   "outputs": [],
   "source": [
    "'''\n",
    "document=[]\n",
    "for file in os.listdir(\"E:\\multidocsbot\\data\"):\n",
    "  if file.endswith(\".pdf\"):\n",
    "    pdf_path=\"./docs/\"+file\n",
    "    loader=PyPDFLoader(pdf_path)\n",
    "    document.extend(loader.load())\n",
    "  elif file.endswith('.docx') or file.endswith('.doc'):\n",
    "    doc_path=\"./docs/\"+file\n",
    "    loader=Docx2txtLoader(doc_path)\n",
    "    document.extend(loader.load())\n",
    "  elif file.endswith('.txt'):\n",
    "    text_path=\"./docs/\"+file\n",
    "    loader=TextLoader(text_path)\n",
    "    document.extend(loader.load())\n",
    "    '''"
   ]
  },
  {
   "cell_type": "code",
   "execution_count": 49,
   "metadata": {},
   "outputs": [
    {
     "name": "stdout",
     "output_type": "stream",
     "text": [
      "Requirement already satisfied: langchain in e:\\multidocsbot\\venv\\lib\\site-packages (0.2.6)Note: you may need to restart the kernel to use updated packages.\n"
     ]
    },
    {
     "name": "stderr",
     "output_type": "stream",
     "text": [
      "WARNING: You are using pip version 22.0.4; however, version 24.1.1 is available.\n",
      "You should consider upgrading via the 'e:\\multidocsbot\\venv\\Scripts\\python.exe -m pip install --upgrade pip' command.\n"
     ]
    },
    {
     "name": "stdout",
     "output_type": "stream",
     "text": [
      "\n",
      "Requirement already satisfied: async-timeout<5.0.0,>=4.0.0 in e:\\multidocsbot\\venv\\lib\\site-packages (from langchain) (4.0.3)\n",
      "Requirement already satisfied: langchain-text-splitters<0.3.0,>=0.2.0 in e:\\multidocsbot\\venv\\lib\\site-packages (from langchain) (0.2.2)\n",
      "Requirement already satisfied: requests<3,>=2 in e:\\multidocsbot\\venv\\lib\\site-packages (from langchain) (2.32.3)\n",
      "Requirement already satisfied: langchain-core<0.3.0,>=0.2.10 in e:\\multidocsbot\\venv\\lib\\site-packages (from langchain) (0.2.10)\n",
      "Requirement already satisfied: tenacity!=8.4.0,<9.0.0,>=8.1.0 in e:\\multidocsbot\\venv\\lib\\site-packages (from langchain) (8.4.2)\n",
      "Requirement already satisfied: PyYAML>=5.3 in e:\\multidocsbot\\venv\\lib\\site-packages (from langchain) (6.0.1)\n",
      "Requirement already satisfied: langsmith<0.2.0,>=0.1.17 in e:\\multidocsbot\\venv\\lib\\site-packages (from langchain) (0.1.82)\n",
      "Requirement already satisfied: numpy<2,>=1 in e:\\multidocsbot\\venv\\lib\\site-packages (from langchain) (1.26.4)\n",
      "Requirement already satisfied: SQLAlchemy<3,>=1.4 in e:\\multidocsbot\\venv\\lib\\site-packages (from langchain) (2.0.31)\n",
      "Requirement already satisfied: pydantic<3,>=1 in e:\\multidocsbot\\venv\\lib\\site-packages (from langchain) (2.7.4)\n",
      "Requirement already satisfied: aiohttp<4.0.0,>=3.8.3 in e:\\multidocsbot\\venv\\lib\\site-packages (from langchain) (3.9.5)\n",
      "Requirement already satisfied: multidict<7.0,>=4.5 in e:\\multidocsbot\\venv\\lib\\site-packages (from aiohttp<4.0.0,>=3.8.3->langchain) (6.0.5)\n",
      "Requirement already satisfied: aiosignal>=1.1.2 in e:\\multidocsbot\\venv\\lib\\site-packages (from aiohttp<4.0.0,>=3.8.3->langchain) (1.3.1)\n",
      "Requirement already satisfied: yarl<2.0,>=1.0 in e:\\multidocsbot\\venv\\lib\\site-packages (from aiohttp<4.0.0,>=3.8.3->langchain) (1.9.4)\n",
      "Requirement already satisfied: attrs>=17.3.0 in e:\\multidocsbot\\venv\\lib\\site-packages (from aiohttp<4.0.0,>=3.8.3->langchain) (23.2.0)\n",
      "Requirement already satisfied: frozenlist>=1.1.1 in e:\\multidocsbot\\venv\\lib\\site-packages (from aiohttp<4.0.0,>=3.8.3->langchain) (1.4.1)\n",
      "Requirement already satisfied: jsonpatch<2.0,>=1.33 in e:\\multidocsbot\\venv\\lib\\site-packages (from langchain-core<0.3.0,>=0.2.10->langchain) (1.33)\n",
      "Requirement already satisfied: packaging<25,>=23.2 in e:\\multidocsbot\\venv\\lib\\site-packages (from langchain-core<0.3.0,>=0.2.10->langchain) (24.1)\n",
      "Requirement already satisfied: orjson<4.0.0,>=3.9.14 in e:\\multidocsbot\\venv\\lib\\site-packages (from langsmith<0.2.0,>=0.1.17->langchain) (3.10.5)\n",
      "Requirement already satisfied: pydantic-core==2.18.4 in e:\\multidocsbot\\venv\\lib\\site-packages (from pydantic<3,>=1->langchain) (2.18.4)\n",
      "Requirement already satisfied: typing-extensions>=4.6.1 in e:\\multidocsbot\\venv\\lib\\site-packages (from pydantic<3,>=1->langchain) (4.12.2)\n",
      "Requirement already satisfied: annotated-types>=0.4.0 in e:\\multidocsbot\\venv\\lib\\site-packages (from pydantic<3,>=1->langchain) (0.7.0)\n",
      "Requirement already satisfied: urllib3<3,>=1.21.1 in e:\\multidocsbot\\venv\\lib\\site-packages (from requests<3,>=2->langchain) (2.2.2)\n",
      "Requirement already satisfied: certifi>=2017.4.17 in e:\\multidocsbot\\venv\\lib\\site-packages (from requests<3,>=2->langchain) (2024.6.2)\n",
      "Requirement already satisfied: charset-normalizer<4,>=2 in e:\\multidocsbot\\venv\\lib\\site-packages (from requests<3,>=2->langchain) (3.3.2)\n",
      "Requirement already satisfied: idna<4,>=2.5 in e:\\multidocsbot\\venv\\lib\\site-packages (from requests<3,>=2->langchain) (3.7)\n",
      "Requirement already satisfied: greenlet!=0.4.17 in e:\\multidocsbot\\venv\\lib\\site-packages (from SQLAlchemy<3,>=1.4->langchain) (3.0.3)\n",
      "Requirement already satisfied: jsonpointer>=1.9 in e:\\multidocsbot\\venv\\lib\\site-packages (from jsonpatch<2.0,>=1.33->langchain-core<0.3.0,>=0.2.10->langchain) (3.0.0)\n"
     ]
    }
   ],
   "source": [
    "%pip install langchain"
   ]
  },
  {
   "cell_type": "code",
   "execution_count": 59,
   "metadata": {},
   "outputs": [],
   "source": [
    "from langchain.text_splitter import CharacterTextSplitter  # Import the class"
   ]
  },
  {
   "cell_type": "code",
   "execution_count": 67,
   "metadata": {},
   "outputs": [],
   "source": [
    "splitter = CharacterTextSplitter(separator='\\n',chunk_size=6500, chunk_overlap=64)\n",
    "#docs = splitter.split_documents(docs)"
   ]
  },
  {
   "cell_type": "code",
   "execution_count": 68,
   "metadata": {},
   "outputs": [],
   "source": [
    "docs = splitter.split_documents(documents)"
   ]
  },
  {
   "cell_type": "code",
   "execution_count": 69,
   "metadata": {},
   "outputs": [
    {
     "data": {
      "text/plain": [
       "796"
      ]
     },
     "execution_count": 69,
     "metadata": {},
     "output_type": "execute_result"
    }
   ],
   "source": [
    "len(docs)"
   ]
  },
  {
   "cell_type": "code",
   "execution_count": 70,
   "metadata": {},
   "outputs": [
    {
     "data": {
      "text/plain": [
       "Document(page_content=\"1. Model accuracy is not of great importance in imbalanced datasets. In those cases, we look at other performance metrics like sensitivity, specificity , f1-score etc.\\n2. Spam detection, stock market crash are examples where false positives are important.\\n \\nReason being, its more problematic when model says your email is a spam but in reality its not. So you will miss out on an imp one. \\nAlso, stock market crash, where the model predicted that the market is not gonna crash, \\ninvestor invests in loads of money but it actually crashes and then the investor looses all of the money invested.\\nFalse negative in stock market crash is a lost opportunity.\\n3. Examples where False negative is important are healthcare and risk compliance/sanction models.\\n When model says the person doesn't have cancer, but in reality the person has cancer. So the person will miss out on imp medications. \\nAlso, risk models like customer risk ranking model, where the model predicts the customer to be non-risky but actually the customer is risky. \\nAnd the consequence being, the bank allows such customers to do business with them and end up in a mess where they perform suspicious activity like money laundering.\", metadata={'source': 'E:/multidocsbot/data/model accuracy and performance.txt'})"
      ]
     },
     "execution_count": 70,
     "metadata": {},
     "output_type": "execute_result"
    }
   ],
   "source": [
    "docs[0]"
   ]
  },
  {
   "cell_type": "code",
   "execution_count": 54,
   "metadata": {},
   "outputs": [
    {
     "name": "stdout",
     "output_type": "stream",
     "text": [
      "Collecting langchain_astradbNote: you may need to restart the kernel to use updated packages.\n"
     ]
    },
    {
     "name": "stderr",
     "output_type": "stream",
     "text": [
      "WARNING: You are using pip version 22.0.4; however, version 24.1.1 is available.\n",
      "You should consider upgrading via the 'e:\\multidocsbot\\venv\\Scripts\\python.exe -m pip install --upgrade pip' command.\n"
     ]
    },
    {
     "name": "stdout",
     "output_type": "stream",
     "text": [
      "\n",
      "  Downloading langchain_astradb-0.3.3-py3-none-any.whl (27 kB)\n",
      "Collecting astrapy<2.0,>=1.2\n",
      "  Downloading astrapy-1.3.1-py3-none-any.whl (145 kB)\n",
      "     -------------------------------------- 145.4/145.4 KB 1.4 MB/s eta 0:00:00\n",
      "Requirement already satisfied: langchain-core<0.3,>=0.1.31 in e:\\multidocsbot\\venv\\lib\\site-packages (from langchain_astradb) (0.2.10)\n",
      "Requirement already satisfied: numpy<2,>=1 in e:\\multidocsbot\\venv\\lib\\site-packages (from langchain_astradb) (1.26.4)\n",
      "Collecting cassio<0.2.0,>=0.1.4\n",
      "  Downloading cassio-0.1.8-py3-none-any.whl (45 kB)\n",
      "     -------------------------------------- 45.1/45.1 KB 741.2 kB/s eta 0:00:00\n",
      "Collecting toml<0.11.0,>=0.10.2\n",
      "  Using cached toml-0.10.2-py2.py3-none-any.whl (16 kB)\n",
      "Collecting uuid6<2024.2.0,>=2024.1.12\n",
      "  Downloading uuid6-2024.1.12-py3-none-any.whl (6.4 kB)\n",
      "Collecting deprecation<2.2.0,>=2.1.0\n",
      "  Using cached deprecation-2.1.0-py2.py3-none-any.whl (11 kB)\n",
      "Requirement already satisfied: httpx[http2]<1,>=0.25.2 in e:\\multidocsbot\\venv\\lib\\site-packages (from astrapy<2.0,>=1.2->langchain_astradb) (0.27.0)\n",
      "Collecting bson<0.6.0,>=0.5.10\n",
      "  Downloading bson-0.5.10.tar.gz (10 kB)\n",
      "  Preparing metadata (setup.py): started\n",
      "  Preparing metadata (setup.py): finished with status 'done'\n",
      "Requirement already satisfied: langsmith<0.2.0,>=0.1.75 in e:\\multidocsbot\\venv\\lib\\site-packages (from langchain-core<0.3,>=0.1.31->langchain_astradb) (0.1.82)\n",
      "Requirement already satisfied: jsonpatch<2.0,>=1.33 in e:\\multidocsbot\\venv\\lib\\site-packages (from langchain-core<0.3,>=0.1.31->langchain_astradb) (1.33)\n",
      "Requirement already satisfied: tenacity!=8.4.0,<9.0.0,>=8.1.0 in e:\\multidocsbot\\venv\\lib\\site-packages (from langchain-core<0.3,>=0.1.31->langchain_astradb) (8.4.2)\n",
      "Requirement already satisfied: pydantic<3,>=1 in e:\\multidocsbot\\venv\\lib\\site-packages (from langchain-core<0.3,>=0.1.31->langchain_astradb) (2.7.4)\n",
      "Requirement already satisfied: PyYAML>=5.3 in e:\\multidocsbot\\venv\\lib\\site-packages (from langchain-core<0.3,>=0.1.31->langchain_astradb) (6.0.1)\n",
      "Requirement already satisfied: packaging<25,>=23.2 in e:\\multidocsbot\\venv\\lib\\site-packages (from langchain-core<0.3,>=0.1.31->langchain_astradb) (24.1)\n",
      "Requirement already satisfied: python-dateutil>=2.4.0 in e:\\multidocsbot\\venv\\lib\\site-packages (from bson<0.6.0,>=0.5.10->astrapy<2.0,>=1.2->langchain_astradb) (2.9.0.post0)\n",
      "Requirement already satisfied: six>=1.9.0 in e:\\multidocsbot\\venv\\lib\\site-packages (from bson<0.6.0,>=0.5.10->astrapy<2.0,>=1.2->langchain_astradb) (1.16.0)\n",
      "Requirement already satisfied: requests<3.0.0,>=2.31.0 in e:\\multidocsbot\\venv\\lib\\site-packages (from cassio<0.2.0,>=0.1.4->astrapy<2.0,>=1.2->langchain_astradb) (2.32.3)\n",
      "Collecting cassandra-driver<4.0.0,>=3.28.0\n",
      "  Using cached cassandra_driver-3.29.1-cp310-cp310-win_amd64.whl (2.7 MB)\n",
      "Requirement already satisfied: anyio in e:\\multidocsbot\\venv\\lib\\site-packages (from httpx[http2]<1,>=0.25.2->astrapy<2.0,>=1.2->langchain_astradb) (4.4.0)\n",
      "Requirement already satisfied: idna in e:\\multidocsbot\\venv\\lib\\site-packages (from httpx[http2]<1,>=0.25.2->astrapy<2.0,>=1.2->langchain_astradb) (3.7)\n",
      "Requirement already satisfied: sniffio in e:\\multidocsbot\\venv\\lib\\site-packages (from httpx[http2]<1,>=0.25.2->astrapy<2.0,>=1.2->langchain_astradb) (1.3.1)\n",
      "Requirement already satisfied: httpcore==1.* in e:\\multidocsbot\\venv\\lib\\site-packages (from httpx[http2]<1,>=0.25.2->astrapy<2.0,>=1.2->langchain_astradb) (1.0.5)\n",
      "Requirement already satisfied: certifi in e:\\multidocsbot\\venv\\lib\\site-packages (from httpx[http2]<1,>=0.25.2->astrapy<2.0,>=1.2->langchain_astradb) (2024.6.2)\n",
      "Collecting h2<5,>=3\n",
      "  Downloading h2-4.1.0-py3-none-any.whl (57 kB)\n",
      "     ---------------------------------------- 57.5/57.5 KB 1.0 MB/s eta 0:00:00\n",
      "Requirement already satisfied: h11<0.15,>=0.13 in e:\\multidocsbot\\venv\\lib\\site-packages (from httpcore==1.*->httpx[http2]<1,>=0.25.2->astrapy<2.0,>=1.2->langchain_astradb) (0.14.0)\n",
      "Requirement already satisfied: jsonpointer>=1.9 in e:\\multidocsbot\\venv\\lib\\site-packages (from jsonpatch<2.0,>=1.33->langchain-core<0.3,>=0.1.31->langchain_astradb) (3.0.0)\n",
      "Requirement already satisfied: orjson<4.0.0,>=3.9.14 in e:\\multidocsbot\\venv\\lib\\site-packages (from langsmith<0.2.0,>=0.1.75->langchain-core<0.3,>=0.1.31->langchain_astradb) (3.10.5)\n",
      "Requirement already satisfied: typing-extensions>=4.6.1 in e:\\multidocsbot\\venv\\lib\\site-packages (from pydantic<3,>=1->langchain-core<0.3,>=0.1.31->langchain_astradb) (4.12.2)\n",
      "Requirement already satisfied: annotated-types>=0.4.0 in e:\\multidocsbot\\venv\\lib\\site-packages (from pydantic<3,>=1->langchain-core<0.3,>=0.1.31->langchain_astradb) (0.7.0)\n",
      "Requirement already satisfied: pydantic-core==2.18.4 in e:\\multidocsbot\\venv\\lib\\site-packages (from pydantic<3,>=1->langchain-core<0.3,>=0.1.31->langchain_astradb) (2.18.4)\n",
      "Collecting geomet<0.3,>=0.1\n",
      "  Downloading geomet-0.2.1.post1-py3-none-any.whl (18 kB)\n",
      "Collecting hyperframe<7,>=6.0\n",
      "  Downloading hyperframe-6.0.1-py3-none-any.whl (12 kB)\n",
      "Collecting hpack<5,>=4.0\n",
      "  Downloading hpack-4.0.0-py3-none-any.whl (32 kB)\n",
      "Requirement already satisfied: charset-normalizer<4,>=2 in e:\\multidocsbot\\venv\\lib\\site-packages (from requests<3.0.0,>=2.31.0->cassio<0.2.0,>=0.1.4->astrapy<2.0,>=1.2->langchain_astradb) (3.3.2)\n",
      "Requirement already satisfied: urllib3<3,>=1.21.1 in e:\\multidocsbot\\venv\\lib\\site-packages (from requests<3.0.0,>=2.31.0->cassio<0.2.0,>=0.1.4->astrapy<2.0,>=1.2->langchain_astradb) (2.2.2)\n",
      "Requirement already satisfied: exceptiongroup>=1.0.2 in e:\\multidocsbot\\venv\\lib\\site-packages (from anyio->httpx[http2]<1,>=0.25.2->astrapy<2.0,>=1.2->langchain_astradb) (1.2.1)\n",
      "Requirement already satisfied: click in e:\\multidocsbot\\venv\\lib\\site-packages (from geomet<0.3,>=0.1->cassandra-driver<4.0.0,>=3.28.0->cassio<0.2.0,>=0.1.4->astrapy<2.0,>=1.2->langchain_astradb) (8.1.7)\n",
      "Requirement already satisfied: colorama in e:\\multidocsbot\\venv\\lib\\site-packages (from click->geomet<0.3,>=0.1->cassandra-driver<4.0.0,>=3.28.0->cassio<0.2.0,>=0.1.4->astrapy<2.0,>=1.2->langchain_astradb) (0.4.6)\n",
      "Using legacy 'setup.py install' for bson, since package 'wheel' is not installed.\n",
      "Installing collected packages: uuid6, toml, hyperframe, hpack, deprecation, h2, geomet, bson, cassandra-driver, cassio, astrapy, langchain_astradb\n",
      "  Running setup.py install for bson: started\n",
      "  Running setup.py install for bson: finished with status 'done'\n",
      "Successfully installed astrapy-1.3.1 bson-0.5.10 cassandra-driver-3.29.1 cassio-0.1.8 deprecation-2.1.0 geomet-0.2.1.post1 h2-4.1.0 hpack-4.0.0 hyperframe-6.0.1 langchain_astradb-0.3.3 toml-0.10.2 uuid6-2024.1.12\n"
     ]
    }
   ],
   "source": [
    "%pip install langchain_astradb"
   ]
  },
  {
   "cell_type": "code",
   "execution_count": 79,
   "metadata": {},
   "outputs": [
    {
     "name": "stdout",
     "output_type": "stream",
     "text": [
      "Collecting sentence-transformers\n",
      "  Using cached sentence_transformers-3.0.1-py3-none-any.whl (227 kB)\n",
      "Requirement already satisfied: transformers<5.0.0,>=4.34.0 in e:\\multidocsbot\\venv\\lib\\site-packages (from sentence-transformers) (4.42.2)\n",
      "Collecting scikit-learn\n",
      "  Using cached scikit_learn-1.5.0-cp310-cp310-win_amd64.whl (11.0 MB)\n",
      "Requirement already satisfied: scipy in e:\\multidocsbot\\venv\\lib\\site-packages (from sentence-transformers) (1.14.0)\n",
      "Requirement already satisfied: numpy in e:\\multidocsbot\\venv\\lib\\site-packages (from sentence-transformers) (1.26.4)\n",
      "Requirement already satisfied: Pillow in e:\\multidocsbot\\venv\\lib\\site-packages (from sentence-transformers) (10.3.0)\n",
      "Requirement already satisfied: tqdm in e:\\multidocsbot\\venv\\lib\\site-packages (from sentence-transformers) (4.66.4)\n",
      "Requirement already satisfied: huggingface-hub>=0.15.1 in e:\\multidocsbot\\venv\\lib\\site-packages (from sentence-transformers) (0.23.4)\n",
      "Requirement already satisfied: torch>=1.11.0 in e:\\multidocsbot\\venv\\lib\\site-packages (from sentence-transformers) (2.3.1)\n",
      "Requirement already satisfied: requests in e:\\multidocsbot\\venv\\lib\\site-packages (from huggingface-hub>=0.15.1->sentence-transformers) (2.32.3)\n",
      "Requirement already satisfied: fsspec>=2023.5.0 in e:\\multidocsbot\\venv\\lib\\site-packages (from huggingface-hub>=0.15.1->sentence-transformers) (2024.6.1)\n",
      "Requirement already satisfied: typing-extensions>=3.7.4.3 in e:\\multidocsbot\\venv\\lib\\site-packages (from huggingface-hub>=0.15.1->sentence-transformers) (4.12.2)\n",
      "Requirement already satisfied: pyyaml>=5.1 in e:\\multidocsbot\\venv\\lib\\site-packages (from huggingface-hub>=0.15.1->sentence-transformers) (6.0.1)\n",
      "Requirement already satisfied: packaging>=20.9 in e:\\multidocsbot\\venv\\lib\\site-packages (from huggingface-hub>=0.15.1->sentence-transformers) (24.1)\n",
      "Requirement already satisfied: filelock in e:\\multidocsbot\\venv\\lib\\site-packages (from huggingface-hub>=0.15.1->sentence-transformers) (3.15.4)\n",
      "Requirement already satisfied: sympy in e:\\multidocsbot\\venv\\lib\\site-packages (from torch>=1.11.0->sentence-transformers) (1.12.1)\n",
      "Requirement already satisfied: mkl<=2021.4.0,>=2021.1.1 in e:\\multidocsbot\\venv\\lib\\site-packages (from torch>=1.11.0->sentence-transformers) (2021.4.0)\n",
      "Requirement already satisfied: networkx in e:\\multidocsbot\\venv\\lib\\site-packages (from torch>=1.11.0->sentence-transformers) (3.3)\n",
      "Requirement already satisfied: jinja2 in e:\\multidocsbot\\venv\\lib\\site-packages (from torch>=1.11.0->sentence-transformers) (3.1.4)\n",
      "Requirement already satisfied: colorama in e:\\multidocsbot\\venv\\lib\\site-packages (from tqdm->sentence-transformers) (0.4.6)\n",
      "Requirement already satisfied: tokenizers<0.20,>=0.19 in e:\\multidocsbot\\venv\\lib\\site-packages (from transformers<5.0.0,>=4.34.0->sentence-transformers) (0.19.1)\n",
      "Requirement already satisfied: safetensors>=0.4.1 in e:\\multidocsbot\\venv\\lib\\site-packages (from transformers<5.0.0,>=4.34.0->sentence-transformers) (0.4.3)\n",
      "Requirement already satisfied: regex!=2019.12.17 in e:\\multidocsbot\\venv\\lib\\site-packages (from transformers<5.0.0,>=4.34.0->sentence-transformers) (2024.5.15)\n",
      "Requirement already satisfied: joblib>=1.2.0 in e:\\multidocsbot\\venv\\lib\\site-packages (from scikit-learn->sentence-transformers) (1.4.2)\n",
      "Collecting threadpoolctl>=3.1.0\n",
      "  Using cached threadpoolctl-3.5.0-py3-none-any.whl (18 kB)\n",
      "Requirement already satisfied: tbb==2021.* in e:\\multidocsbot\\venv\\lib\\site-packages (from mkl<=2021.4.0,>=2021.1.1->torch>=1.11.0->sentence-transformers) (2021.13.0)\n",
      "Requirement already satisfied: intel-openmp==2021.* in e:\\multidocsbot\\venv\\lib\\site-packages (from mkl<=2021.4.0,>=2021.1.1->torch>=1.11.0->sentence-transformers) (2021.4.0)\n",
      "Requirement already satisfied: MarkupSafe>=2.0 in e:\\multidocsbot\\venv\\lib\\site-packages (from jinja2->torch>=1.11.0->sentence-transformers) (2.1.5)\n",
      "Requirement already satisfied: certifi>=2017.4.17 in e:\\multidocsbot\\venv\\lib\\site-packages (from requests->huggingface-hub>=0.15.1->sentence-transformers) (2024.6.2)\n",
      "Requirement already satisfied: charset-normalizer<4,>=2 in e:\\multidocsbot\\venv\\lib\\site-packages (from requests->huggingface-hub>=0.15.1->sentence-transformers) (3.3.2)\n",
      "Requirement already satisfied: idna<4,>=2.5 in e:\\multidocsbot\\venv\\lib\\site-packages (from requests->huggingface-hub>=0.15.1->sentence-transformers) (3.7)\n",
      "Requirement already satisfied: urllib3<3,>=1.21.1 in e:\\multidocsbot\\venv\\lib\\site-packages (from requests->huggingface-hub>=0.15.1->sentence-transformers) (2.2.2)\n",
      "Requirement already satisfied: mpmath<1.4.0,>=1.1.0 in e:\\multidocsbot\\venv\\lib\\site-packages (from sympy->torch>=1.11.0->sentence-transformers) (1.3.0)\n",
      "Installing collected packages: threadpoolctl, scikit-learn, sentence-transformers\n",
      "Successfully installed scikit-learn-1.5.0 sentence-transformers-3.0.1 threadpoolctl-3.5.0\n",
      "Note: you may need to restart the kernel to use updated packages.\n"
     ]
    },
    {
     "name": "stderr",
     "output_type": "stream",
     "text": [
      "WARNING: You are using pip version 22.0.4; however, version 24.1.1 is available.\n",
      "You should consider upgrading via the 'e:\\multidocsbot\\venv\\Scripts\\python.exe -m pip install --upgrade pip' command.\n"
     ]
    }
   ],
   "source": [
    "%pip install sentence-transformers"
   ]
  },
  {
   "cell_type": "code",
   "execution_count": 101,
   "metadata": {},
   "outputs": [
    {
     "name": "stdout",
     "output_type": "stream",
     "text": [
      "Collecting chromadbNote: you may need to restart the kernel to use updated packages.\n"
     ]
    },
    {
     "name": "stderr",
     "output_type": "stream",
     "text": [
      "WARNING: You are using pip version 22.0.4; however, version 24.1.1 is available.\n",
      "You should consider upgrading via the 'e:\\multidocsbot\\venv\\Scripts\\python.exe -m pip install --upgrade pip' command.\n"
     ]
    },
    {
     "name": "stdout",
     "output_type": "stream",
     "text": [
      "\n",
      "  Downloading chromadb-0.5.3-py3-none-any.whl (559 kB)\n",
      "     -------------------------------------- 559.5/559.5 KB 2.9 MB/s eta 0:00:00\n",
      "Collecting posthog>=2.4.0\n",
      "  Using cached posthog-3.5.0-py2.py3-none-any.whl (41 kB)\n",
      "Collecting typer>=0.9.0\n",
      "  Using cached typer-0.12.3-py3-none-any.whl (47 kB)\n",
      "Collecting fastapi>=0.95.2\n",
      "  Using cached fastapi-0.111.0-py3-none-any.whl (91 kB)\n",
      "Requirement already satisfied: onnxruntime>=1.14.1 in e:\\multidocsbot\\venv\\lib\\site-packages (from chromadb) (1.18.1)\n",
      "Requirement already satisfied: pydantic>=1.9 in e:\\multidocsbot\\venv\\lib\\site-packages (from chromadb) (2.7.4)\n",
      "Collecting importlib-resources\n",
      "  Using cached importlib_resources-6.4.0-py3-none-any.whl (38 kB)\n",
      "Collecting bcrypt>=4.0.1\n",
      "  Using cached bcrypt-4.1.3-cp39-abi3-win_amd64.whl (158 kB)\n",
      "Requirement already satisfied: requests>=2.28 in e:\\multidocsbot\\venv\\lib\\site-packages (from chromadb) (2.32.3)\n",
      "Collecting build>=1.0.3\n",
      "  Using cached build-1.2.1-py3-none-any.whl (21 kB)\n",
      "Requirement already satisfied: tenacity>=8.2.3 in e:\\multidocsbot\\venv\\lib\\site-packages (from chromadb) (8.4.2)\n",
      "Collecting pypika>=0.48.9\n",
      "  Using cached PyPika-0.48.9-py2.py3-none-any.whl\n",
      "Collecting kubernetes>=28.1.0\n",
      "  Using cached kubernetes-30.1.0-py2.py3-none-any.whl (1.7 MB)\n",
      "Requirement already satisfied: PyYAML>=6.0.0 in e:\\multidocsbot\\venv\\lib\\site-packages (from chromadb) (6.0.1)\n",
      "Collecting chroma-hnswlib==0.7.3\n",
      "  Using cached chroma_hnswlib-0.7.3-cp310-cp310-win_amd64.whl (150 kB)\n",
      "Collecting mmh3>=4.0.1\n",
      "  Using cached mmh3-4.1.0-cp310-cp310-win_amd64.whl (31 kB)\n",
      "Requirement already satisfied: tokenizers>=0.13.2 in e:\\multidocsbot\\venv\\lib\\site-packages (from chromadb) (0.19.1)\n",
      "Requirement already satisfied: numpy<2.0.0,>=1.22.5 in e:\\multidocsbot\\venv\\lib\\site-packages (from chromadb) (1.26.4)\n",
      "Requirement already satisfied: typing-extensions>=4.5.0 in e:\\multidocsbot\\venv\\lib\\site-packages (from chromadb) (4.12.2)\n",
      "Requirement already satisfied: orjson>=3.9.12 in e:\\multidocsbot\\venv\\lib\\site-packages (from chromadb) (3.10.5)\n",
      "Collecting opentelemetry-exporter-otlp-proto-grpc>=1.2.0\n",
      "  Using cached opentelemetry_exporter_otlp_proto_grpc-1.25.0-py3-none-any.whl (18 kB)\n",
      "Collecting opentelemetry-sdk>=1.2.0\n",
      "  Using cached opentelemetry_sdk-1.25.0-py3-none-any.whl (107 kB)\n",
      "Collecting opentelemetry-instrumentation-fastapi>=0.41b0\n",
      "  Using cached opentelemetry_instrumentation_fastapi-0.46b0-py3-none-any.whl (11 kB)\n",
      "Requirement already satisfied: tqdm>=4.65.0 in e:\\multidocsbot\\venv\\lib\\site-packages (from chromadb) (4.66.4)\n",
      "Collecting opentelemetry-api>=1.2.0\n",
      "  Using cached opentelemetry_api-1.25.0-py3-none-any.whl (59 kB)\n",
      "Collecting uvicorn[standard]>=0.18.3\n",
      "  Using cached uvicorn-0.30.1-py3-none-any.whl (62 kB)\n",
      "Requirement already satisfied: httpx>=0.27.0 in e:\\multidocsbot\\venv\\lib\\site-packages (from chromadb) (0.27.0)\n",
      "Requirement already satisfied: grpcio>=1.58.0 in e:\\multidocsbot\\venv\\lib\\site-packages (from chromadb) (1.64.1)\n",
      "Collecting overrides>=7.3.1\n",
      "  Using cached overrides-7.7.0-py3-none-any.whl (17 kB)\n",
      "Collecting pyproject_hooks\n",
      "  Using cached pyproject_hooks-1.1.0-py3-none-any.whl (9.2 kB)\n",
      "Requirement already satisfied: packaging>=19.1 in e:\\multidocsbot\\venv\\lib\\site-packages (from build>=1.0.3->chromadb) (24.1)\n",
      "Collecting tomli>=1.1.0\n",
      "  Using cached tomli-2.0.1-py3-none-any.whl (12 kB)\n",
      "Requirement already satisfied: colorama in e:\\multidocsbot\\venv\\lib\\site-packages (from build>=1.0.3->chromadb) (0.4.6)\n",
      "Collecting ujson!=4.0.2,!=4.1.0,!=4.2.0,!=4.3.0,!=5.0.0,!=5.1.0,>=4.0.1\n",
      "  Using cached ujson-5.10.0-cp310-cp310-win_amd64.whl (42 kB)\n",
      "Requirement already satisfied: jinja2>=2.11.2 in e:\\multidocsbot\\venv\\lib\\site-packages (from fastapi>=0.95.2->chromadb) (3.1.4)\n",
      "Collecting email_validator>=2.0.0\n",
      "  Using cached email_validator-2.2.0-py3-none-any.whl (33 kB)\n",
      "Collecting fastapi-cli>=0.0.2\n",
      "  Using cached fastapi_cli-0.0.4-py3-none-any.whl (9.5 kB)\n",
      "Collecting starlette<0.38.0,>=0.37.2\n",
      "  Using cached starlette-0.37.2-py3-none-any.whl (71 kB)\n",
      "Requirement already satisfied: python-multipart>=0.0.7 in e:\\multidocsbot\\venv\\lib\\site-packages (from fastapi>=0.95.2->chromadb) (0.0.9)\n",
      "Requirement already satisfied: sniffio in e:\\multidocsbot\\venv\\lib\\site-packages (from httpx>=0.27.0->chromadb) (1.3.1)\n",
      "Requirement already satisfied: certifi in e:\\multidocsbot\\venv\\lib\\site-packages (from httpx>=0.27.0->chromadb) (2024.6.2)\n",
      "Requirement already satisfied: httpcore==1.* in e:\\multidocsbot\\venv\\lib\\site-packages (from httpx>=0.27.0->chromadb) (1.0.5)\n",
      "Requirement already satisfied: idna in e:\\multidocsbot\\venv\\lib\\site-packages (from httpx>=0.27.0->chromadb) (3.7)\n",
      "Requirement already satisfied: anyio in e:\\multidocsbot\\venv\\lib\\site-packages (from httpx>=0.27.0->chromadb) (4.4.0)\n",
      "Requirement already satisfied: h11<0.15,>=0.13 in e:\\multidocsbot\\venv\\lib\\site-packages (from httpcore==1.*->httpx>=0.27.0->chromadb) (0.14.0)\n",
      "Requirement already satisfied: six>=1.9.0 in e:\\multidocsbot\\venv\\lib\\site-packages (from kubernetes>=28.1.0->chromadb) (1.16.0)\n",
      "Collecting requests-oauthlib\n",
      "  Using cached requests_oauthlib-2.0.0-py2.py3-none-any.whl (24 kB)\n",
      "Requirement already satisfied: google-auth>=1.0.1 in e:\\multidocsbot\\venv\\lib\\site-packages (from kubernetes>=28.1.0->chromadb) (2.30.0)\n",
      "Requirement already satisfied: python-dateutil>=2.5.3 in e:\\multidocsbot\\venv\\lib\\site-packages (from kubernetes>=28.1.0->chromadb) (2.9.0.post0)\n",
      "Collecting oauthlib>=3.2.2\n",
      "  Using cached oauthlib-3.2.2-py3-none-any.whl (151 kB)\n",
      "Collecting websocket-client!=0.40.0,!=0.41.*,!=0.42.*,>=0.32.0\n",
      "  Using cached websocket_client-1.8.0-py3-none-any.whl (58 kB)\n",
      "Requirement already satisfied: urllib3>=1.24.2 in e:\\multidocsbot\\venv\\lib\\site-packages (from kubernetes>=28.1.0->chromadb) (2.2.2)\n",
      "Requirement already satisfied: sympy in e:\\multidocsbot\\venv\\lib\\site-packages (from onnxruntime>=1.14.1->chromadb) (1.12.1)\n",
      "Requirement already satisfied: protobuf in e:\\multidocsbot\\venv\\lib\\site-packages (from onnxruntime>=1.14.1->chromadb) (4.25.3)\n",
      "Requirement already satisfied: coloredlogs in e:\\multidocsbot\\venv\\lib\\site-packages (from onnxruntime>=1.14.1->chromadb) (15.0.1)\n",
      "Requirement already satisfied: flatbuffers in e:\\multidocsbot\\venv\\lib\\site-packages (from onnxruntime>=1.14.1->chromadb) (24.3.25)\n",
      "Requirement already satisfied: deprecated>=1.2.6 in e:\\multidocsbot\\venv\\lib\\site-packages (from opentelemetry-api>=1.2.0->chromadb) (1.2.14)\n",
      "Collecting importlib-metadata<=7.1,>=6.0\n",
      "  Using cached importlib_metadata-7.1.0-py3-none-any.whl (24 kB)\n",
      "Collecting opentelemetry-proto==1.25.0\n",
      "  Using cached opentelemetry_proto-1.25.0-py3-none-any.whl (52 kB)\n",
      "Requirement already satisfied: googleapis-common-protos~=1.52 in e:\\multidocsbot\\venv\\lib\\site-packages (from opentelemetry-exporter-otlp-proto-grpc>=1.2.0->chromadb) (1.63.2)\n",
      "Collecting opentelemetry-exporter-otlp-proto-common==1.25.0\n",
      "  Using cached opentelemetry_exporter_otlp_proto_common-1.25.0-py3-none-any.whl (17 kB)\n",
      "Collecting opentelemetry-util-http==0.46b0\n",
      "  Using cached opentelemetry_util_http-0.46b0-py3-none-any.whl (6.9 kB)\n",
      "Collecting opentelemetry-semantic-conventions==0.46b0\n",
      "  Using cached opentelemetry_semantic_conventions-0.46b0-py3-none-any.whl (130 kB)\n",
      "Collecting opentelemetry-instrumentation==0.46b0\n",
      "  Using cached opentelemetry_instrumentation-0.46b0-py3-none-any.whl (29 kB)\n",
      "Collecting opentelemetry-instrumentation-asgi==0.46b0\n",
      "  Using cached opentelemetry_instrumentation_asgi-0.46b0-py3-none-any.whl (14 kB)\n",
      "Requirement already satisfied: wrapt<2.0.0,>=1.0.0 in e:\\multidocsbot\\venv\\lib\\site-packages (from opentelemetry-instrumentation==0.46b0->opentelemetry-instrumentation-fastapi>=0.41b0->chromadb) (1.16.0)\n",
      "Requirement already satisfied: setuptools>=16.0 in e:\\multidocsbot\\venv\\lib\\site-packages (from opentelemetry-instrumentation==0.46b0->opentelemetry-instrumentation-fastapi>=0.41b0->chromadb) (58.1.0)\n",
      "Collecting asgiref~=3.0\n",
      "  Using cached asgiref-3.8.1-py3-none-any.whl (23 kB)\n",
      "Collecting monotonic>=1.5\n",
      "  Using cached monotonic-1.6-py2.py3-none-any.whl (8.2 kB)\n",
      "Requirement already satisfied: backoff>=1.10.0 in e:\\multidocsbot\\venv\\lib\\site-packages (from posthog>=2.4.0->chromadb) (2.2.1)\n",
      "Requirement already satisfied: pydantic-core==2.18.4 in e:\\multidocsbot\\venv\\lib\\site-packages (from pydantic>=1.9->chromadb) (2.18.4)\n",
      "Requirement already satisfied: annotated-types>=0.4.0 in e:\\multidocsbot\\venv\\lib\\site-packages (from pydantic>=1.9->chromadb) (0.7.0)\n",
      "Requirement already satisfied: charset-normalizer<4,>=2 in e:\\multidocsbot\\venv\\lib\\site-packages (from requests>=2.28->chromadb) (3.3.2)\n",
      "Requirement already satisfied: huggingface-hub<1.0,>=0.16.4 in e:\\multidocsbot\\venv\\lib\\site-packages (from tokenizers>=0.13.2->chromadb) (0.23.4)\n",
      "Collecting rich>=10.11.0\n",
      "  Using cached rich-13.7.1-py3-none-any.whl (240 kB)\n",
      "Requirement already satisfied: click>=8.0.0 in e:\\multidocsbot\\venv\\lib\\site-packages (from typer>=0.9.0->chromadb) (8.1.7)\n",
      "Collecting shellingham>=1.3.0\n",
      "  Using cached shellingham-1.5.4-py2.py3-none-any.whl (9.8 kB)\n",
      "Collecting websockets>=10.4\n",
      "  Using cached websockets-12.0-cp310-cp310-win_amd64.whl (124 kB)\n",
      "Requirement already satisfied: python-dotenv>=0.13 in e:\\multidocsbot\\venv\\lib\\site-packages (from uvicorn[standard]>=0.18.3->chromadb) (1.0.1)\n",
      "Collecting watchfiles>=0.13\n",
      "  Using cached watchfiles-0.22.0-cp310-none-win_amd64.whl (282 kB)\n",
      "Collecting httptools>=0.5.0\n",
      "  Using cached httptools-0.6.1-cp310-cp310-win_amd64.whl (58 kB)\n",
      "Collecting dnspython>=2.0.0\n",
      "  Using cached dnspython-2.6.1-py3-none-any.whl (307 kB)\n",
      "Requirement already satisfied: pyasn1-modules>=0.2.1 in e:\\multidocsbot\\venv\\lib\\site-packages (from google-auth>=1.0.1->kubernetes>=28.1.0->chromadb) (0.4.0)\n",
      "Requirement already satisfied: rsa<5,>=3.1.4 in e:\\multidocsbot\\venv\\lib\\site-packages (from google-auth>=1.0.1->kubernetes>=28.1.0->chromadb) (4.9)\n",
      "Requirement already satisfied: cachetools<6.0,>=2.0.0 in e:\\multidocsbot\\venv\\lib\\site-packages (from google-auth>=1.0.1->kubernetes>=28.1.0->chromadb) (5.3.3)\n",
      "Requirement already satisfied: filelock in e:\\multidocsbot\\venv\\lib\\site-packages (from huggingface-hub<1.0,>=0.16.4->tokenizers>=0.13.2->chromadb) (3.15.4)\n",
      "Requirement already satisfied: fsspec>=2023.5.0 in e:\\multidocsbot\\venv\\lib\\site-packages (from huggingface-hub<1.0,>=0.16.4->tokenizers>=0.13.2->chromadb) (2024.6.1)\n",
      "Collecting zipp>=0.5\n",
      "  Using cached zipp-3.19.2-py3-none-any.whl (9.0 kB)\n",
      "Requirement already satisfied: MarkupSafe>=2.0 in e:\\multidocsbot\\venv\\lib\\site-packages (from jinja2>=2.11.2->fastapi>=0.95.2->chromadb) (2.1.5)\n",
      "Requirement already satisfied: pygments<3.0.0,>=2.13.0 in e:\\multidocsbot\\venv\\lib\\site-packages (from rich>=10.11.0->typer>=0.9.0->chromadb) (2.18.0)\n",
      "Collecting markdown-it-py>=2.2.0\n",
      "  Using cached markdown_it_py-3.0.0-py3-none-any.whl (87 kB)\n",
      "Requirement already satisfied: exceptiongroup>=1.0.2 in e:\\multidocsbot\\venv\\lib\\site-packages (from anyio->httpx>=0.27.0->chromadb) (1.2.1)\n",
      "Requirement already satisfied: humanfriendly>=9.1 in e:\\multidocsbot\\venv\\lib\\site-packages (from coloredlogs->onnxruntime>=1.14.1->chromadb) (10.0)\n",
      "Requirement already satisfied: mpmath<1.4.0,>=1.1.0 in e:\\multidocsbot\\venv\\lib\\site-packages (from sympy->onnxruntime>=1.14.1->chromadb) (1.3.0)\n",
      "Requirement already satisfied: pyreadline3 in e:\\multidocsbot\\venv\\lib\\site-packages (from humanfriendly>=9.1->coloredlogs->onnxruntime>=1.14.1->chromadb) (3.4.1)\n",
      "Collecting mdurl~=0.1\n",
      "  Using cached mdurl-0.1.2-py3-none-any.whl (10.0 kB)\n",
      "Requirement already satisfied: pyasn1<0.7.0,>=0.4.6 in e:\\multidocsbot\\venv\\lib\\site-packages (from pyasn1-modules>=0.2.1->google-auth>=1.0.1->kubernetes>=28.1.0->chromadb) (0.6.0)\n",
      "Installing collected packages: pypika, monotonic, mmh3, zipp, websockets, websocket-client, ujson, tomli, shellingham, pyproject_hooks, overrides, opentelemetry-util-http, opentelemetry-proto, oauthlib, mdurl, importlib-resources, httptools, dnspython, chroma-hnswlib, bcrypt, asgiref, watchfiles, uvicorn, starlette, requests-oauthlib, posthog, opentelemetry-exporter-otlp-proto-common, markdown-it-py, importlib-metadata, email_validator, build, rich, opentelemetry-api, kubernetes, typer, opentelemetry-semantic-conventions, opentelemetry-instrumentation, opentelemetry-sdk, opentelemetry-instrumentation-asgi, fastapi-cli, opentelemetry-instrumentation-fastapi, opentelemetry-exporter-otlp-proto-grpc, fastapi, chromadb\n",
      "Successfully installed asgiref-3.8.1 bcrypt-4.1.3 build-1.2.1 chroma-hnswlib-0.7.3 chromadb-0.5.3 dnspython-2.6.1 email_validator-2.2.0 fastapi-0.111.0 fastapi-cli-0.0.4 httptools-0.6.1 importlib-metadata-7.1.0 importlib-resources-6.4.0 kubernetes-30.1.0 markdown-it-py-3.0.0 mdurl-0.1.2 mmh3-4.1.0 monotonic-1.6 oauthlib-3.2.2 opentelemetry-api-1.25.0 opentelemetry-exporter-otlp-proto-common-1.25.0 opentelemetry-exporter-otlp-proto-grpc-1.25.0 opentelemetry-instrumentation-0.46b0 opentelemetry-instrumentation-asgi-0.46b0 opentelemetry-instrumentation-fastapi-0.46b0 opentelemetry-proto-1.25.0 opentelemetry-sdk-1.25.0 opentelemetry-semantic-conventions-0.46b0 opentelemetry-util-http-0.46b0 overrides-7.7.0 posthog-3.5.0 pypika-0.48.9 pyproject_hooks-1.1.0 requests-oauthlib-2.0.0 rich-13.7.1 shellingham-1.5.4 starlette-0.37.2 tomli-2.0.1 typer-0.12.3 ujson-5.10.0 uvicorn-0.30.1 watchfiles-0.22.0 websocket-client-1.8.0 websockets-12.0 zipp-3.19.2\n"
     ]
    }
   ],
   "source": [
    "%pip install chromadb"
   ]
  },
  {
   "cell_type": "code",
   "execution_count": 55,
   "metadata": {},
   "outputs": [],
   "source": [
    "import os\n",
    "from langchain_core.documents import Document\n",
    "from langchain_community.document_loaders import PyPDFLoader\n",
    "\n",
    "from langchain_core.output_parsers import StrOutputParser\n",
    "from langchain_core.prompts import ChatPromptTemplate\n",
    "from langchain_core.runnables import RunnablePassthrough\n",
    "from langchain_openai import ChatOpenAI, OpenAIEmbeddings"
   ]
  },
  {
   "cell_type": "code",
   "execution_count": 105,
   "metadata": {},
   "outputs": [],
   "source": [
    "load_dotenv()\n",
    "OPENAI_API_KEY = os.getenv(\"OPENAI_API_KEY\")"
   ]
  },
  {
   "cell_type": "code",
   "execution_count": 106,
   "metadata": {},
   "outputs": [],
   "source": [
    "import os\n",
    "os.environ[\"OPENAI_API_KEY\"] = OPENAI_API_KEY\n",
    "model_name = \"meta-llama/Llama-2-7b-chat-hf\""
   ]
  },
  {
   "cell_type": "code",
   "execution_count": 76,
   "metadata": {},
   "outputs": [],
   "source": [
    "from langchain.embeddings import HuggingFaceEmbeddings"
   ]
  },
  {
   "cell_type": "code",
   "execution_count": 81,
   "metadata": {},
   "outputs": [],
   "source": [
    "#embeddings = OpenAIEmbeddings()\n",
    "embeddings = HuggingFaceEmbeddings(model_name = 'sentence-transformers/all-MiniLM-L6-v2')"
   ]
  },
  {
   "cell_type": "code",
   "execution_count": 99,
   "metadata": {},
   "outputs": [],
   "source": [
    "from langchain.vectorstores import Chroma"
   ]
  },
  {
   "cell_type": "code",
   "execution_count": 102,
   "metadata": {},
   "outputs": [],
   "source": [
    "vectordb=Chroma.from_documents(docs,embedding=embeddings, persist_directory='./data')"
   ]
  },
  {
   "cell_type": "code",
   "execution_count": 103,
   "metadata": {},
   "outputs": [
    {
     "name": "stderr",
     "output_type": "stream",
     "text": [
      "e:\\multidocsbot\\venv\\lib\\site-packages\\langchain_core\\_api\\deprecation.py:139: LangChainDeprecationWarning: Since Chroma 0.4.x the manual persistence method is no longer supported as docs are automatically persisted.\n",
      "  warn_deprecated(\n"
     ]
    }
   ],
   "source": [
    "vectordb.persist()"
   ]
  },
  {
   "cell_type": "code",
   "execution_count": 107,
   "metadata": {},
   "outputs": [],
   "source": [
    "llm=ChatOpenAI(temperature=0, model_name='gpt-3.5-turbo')"
   ]
  },
  {
   "attachments": {},
   "cell_type": "markdown",
   "metadata": {},
   "source": [
    "# Step 10: Creating a memory object which is necessary to track inputs/outputs and hold a conversation"
   ]
  },
  {
   "cell_type": "code",
   "execution_count": 110,
   "metadata": {},
   "outputs": [],
   "source": [
    "from langchain.memory import ConversationBufferMemory\n",
    "from langchain.chains import ConversationalRetrievalChain"
   ]
  },
  {
   "cell_type": "code",
   "execution_count": 109,
   "metadata": {},
   "outputs": [],
   "source": [
    "memory=ConversationBufferMemory(memory_key='chat_history', return_messages=True)"
   ]
  },
  {
   "attachments": {},
   "cell_type": "markdown",
   "metadata": {},
   "source": [
    "## Step 11: Creating a Conversation Retrieval QA Chain\n",
    "## The ConversationalRetrievalQA chain builds on RetrievalQAChain to provide a chat history component."
   ]
  },
  {
   "cell_type": "code",
   "execution_count": 111,
   "metadata": {},
   "outputs": [],
   "source": [
    "#Create our Q/A Chain\n",
    "pdf_qa=ConversationalRetrievalChain.from_llm(llm=llm,\n",
    "                                             retriever=vectordb.as_retriever(search_kwargs={'k':10}),\n",
    "                                             verbose=False, memory=memory)"
   ]
  },
  {
   "cell_type": "code",
   "execution_count": 112,
   "metadata": {},
   "outputs": [
    {
     "name": "stderr",
     "output_type": "stream",
     "text": [
      "e:\\multidocsbot\\venv\\lib\\site-packages\\langchain_core\\_api\\deprecation.py:139: LangChainDeprecationWarning: The method `Chain.__call__` was deprecated in langchain 0.1.0 and will be removed in 0.3.0. Use invoke instead.\n",
      "  warn_deprecated(\n"
     ]
    }
   ],
   "source": [
    "result=pdf_qa({\"question\":\"what are the examples of false negative?\"})"
   ]
  },
  {
   "cell_type": "code",
   "execution_count": 113,
   "metadata": {},
   "outputs": [
    {
     "data": {
      "text/plain": [
       "{'question': 'what are the examples of false negative?',\n",
       " 'chat_history': [HumanMessage(content='what are the examples of false negative?'),\n",
       "  AIMessage(content='Examples of false negatives include:\\n1. A healthcare scenario where a model predicts that a person does not have cancer, but in reality, the person does have cancer. This can lead to the person missing out on important medications and treatments.\\n2. Risk compliance/sanction models in banking, where the model predicts a customer to be non-risky, but in reality, the customer is risky. This can lead to allowing risky customers to conduct business, potentially leading to issues like money laundering.')],\n",
       " 'answer': 'Examples of false negatives include:\\n1. A healthcare scenario where a model predicts that a person does not have cancer, but in reality, the person does have cancer. This can lead to the person missing out on important medications and treatments.\\n2. Risk compliance/sanction models in banking, where the model predicts a customer to be non-risky, but in reality, the customer is risky. This can lead to allowing risky customers to conduct business, potentially leading to issues like money laundering.'}"
      ]
     },
     "execution_count": 113,
     "metadata": {},
     "output_type": "execute_result"
    }
   ],
   "source": [
    "result"
   ]
  },
  {
   "cell_type": "code",
   "execution_count": 114,
   "metadata": {},
   "outputs": [],
   "source": [
    "result1=pdf_qa({\"question\":\"what is the score for Denmark?\"})"
   ]
  },
  {
   "cell_type": "code",
   "execution_count": 115,
   "metadata": {},
   "outputs": [
    {
     "data": {
      "text/plain": [
       "{'question': 'what is the score for Denmark?',\n",
       " 'chat_history': [HumanMessage(content='what are the examples of false negative?'),\n",
       "  AIMessage(content='Examples of false negatives include:\\n1. A healthcare scenario where a model predicts that a person does not have cancer, but in reality, the person does have cancer. This can lead to the person missing out on important medications and treatments.\\n2. Risk compliance/sanction models in banking, where the model predicts a customer to be non-risky, but in reality, the customer is risky. This can lead to allowing risky customers to conduct business, potentially leading to issues like money laundering.'),\n",
       "  HumanMessage(content='what is the score for Denmark?'),\n",
       "  AIMessage(content='The score for Denmark is 7.600.')],\n",
       " 'answer': 'The score for Denmark is 7.600.'}"
      ]
     },
     "execution_count": 115,
     "metadata": {},
     "output_type": "execute_result"
    }
   ],
   "source": [
    "result1"
   ]
  },
  {
   "cell_type": "code",
   "execution_count": 116,
   "metadata": {},
   "outputs": [],
   "source": [
    "result3=pdf_qa.invoke({\"question\":\"what is the actual meaning of abdominal ultrasound ?\"})"
   ]
  },
  {
   "cell_type": "code",
   "execution_count": 117,
   "metadata": {},
   "outputs": [
    {
     "data": {
      "text/plain": [
       "{'question': 'what is the actual meaning of abdominal ultrasound ?',\n",
       " 'chat_history': [HumanMessage(content='what are the examples of false negative?'),\n",
       "  AIMessage(content='Examples of false negatives include:\\n1. A healthcare scenario where a model predicts that a person does not have cancer, but in reality, the person does have cancer. This can lead to the person missing out on important medications and treatments.\\n2. Risk compliance/sanction models in banking, where the model predicts a customer to be non-risky, but in reality, the customer is risky. This can lead to allowing risky customers to conduct business, potentially leading to issues like money laundering.'),\n",
       "  HumanMessage(content='what is the score for Denmark?'),\n",
       "  AIMessage(content='The score for Denmark is 7.600.'),\n",
       "  HumanMessage(content='what is the actual meaning of abdominal ultrasound ?'),\n",
       "  AIMessage(content='Abdominal ultrasound is a medical imaging technique that uses high-frequency sound waves to create images of the organs and structures within the abdomen. It allows doctors to visualize and assess the condition of organs such as the liver, pancreas, gallbladder, spleen, kidneys, and urinary tract without the need for surgery. Abdominal ultrasound is commonly used to diagnose various conditions such as abdominal pain, trauma, masses, liver disease, pancreatic disease, gallstones, spleen disease, kidney disease, and abdominal aortic aneurysm.')],\n",
       " 'answer': 'Abdominal ultrasound is a medical imaging technique that uses high-frequency sound waves to create images of the organs and structures within the abdomen. It allows doctors to visualize and assess the condition of organs such as the liver, pancreas, gallbladder, spleen, kidneys, and urinary tract without the need for surgery. Abdominal ultrasound is commonly used to diagnose various conditions such as abdominal pain, trauma, masses, liver disease, pancreatic disease, gallstones, spleen disease, kidney disease, and abdominal aortic aneurysm.'}"
      ]
     },
     "execution_count": 117,
     "metadata": {},
     "output_type": "execute_result"
    }
   ],
   "source": [
    "result3"
   ]
  },
  {
   "cell_type": "code",
   "execution_count": 118,
   "metadata": {},
   "outputs": [],
   "source": [
    "result4=pdf_qa.invoke({\"question\":\"what is the procedure for this ?\"})"
   ]
  },
  {
   "cell_type": "code",
   "execution_count": 119,
   "metadata": {},
   "outputs": [
    {
     "data": {
      "text/plain": [
       "{'question': 'what is the procedure for this ?',\n",
       " 'chat_history': [HumanMessage(content='what are the examples of false negative?'),\n",
       "  AIMessage(content='Examples of false negatives include:\\n1. A healthcare scenario where a model predicts that a person does not have cancer, but in reality, the person does have cancer. This can lead to the person missing out on important medications and treatments.\\n2. Risk compliance/sanction models in banking, where the model predicts a customer to be non-risky, but in reality, the customer is risky. This can lead to allowing risky customers to conduct business, potentially leading to issues like money laundering.'),\n",
       "  HumanMessage(content='what is the score for Denmark?'),\n",
       "  AIMessage(content='The score for Denmark is 7.600.'),\n",
       "  HumanMessage(content='what is the actual meaning of abdominal ultrasound ?'),\n",
       "  AIMessage(content='Abdominal ultrasound is a medical imaging technique that uses high-frequency sound waves to create images of the organs and structures within the abdomen. It allows doctors to visualize and assess the condition of organs such as the liver, pancreas, gallbladder, spleen, kidneys, and urinary tract without the need for surgery. Abdominal ultrasound is commonly used to diagnose various conditions such as abdominal pain, trauma, masses, liver disease, pancreatic disease, gallstones, spleen disease, kidney disease, and abdominal aortic aneurysm.'),\n",
       "  HumanMessage(content='what is the procedure for this ?'),\n",
       "  AIMessage(content=\"The procedure for an abdominal ultrasound involves fasting for at least eight hours prior to the procedure to ensure the stomach is empty. The patient's abdomen is then greased with a special gel to allow the ultrasound probe to glide easily across the skin. The doctor, assisted by a technologist, will move the probe around the abdomen to obtain different views of the target areas. The patient may be asked to change positions and hold their breath as necessary to obtain desired views. Discomfort during the procedure is minimal.\")],\n",
       " 'answer': \"The procedure for an abdominal ultrasound involves fasting for at least eight hours prior to the procedure to ensure the stomach is empty. The patient's abdomen is then greased with a special gel to allow the ultrasound probe to glide easily across the skin. The doctor, assisted by a technologist, will move the probe around the abdomen to obtain different views of the target areas. The patient may be asked to change positions and hold their breath as necessary to obtain desired views. Discomfort during the procedure is minimal.\"}"
      ]
     },
     "execution_count": 119,
     "metadata": {},
     "output_type": "execute_result"
    }
   ],
   "source": [
    "result4"
   ]
  },
  {
   "cell_type": "code",
   "execution_count": 94,
   "metadata": {},
   "outputs": [],
   "source": [
    "ASTRA_DB_APPLICATION_TOKEN=\"AstraCS:QmazroaZWtZRTltUNYAWpiDz:858e084807279ae916820eb72588276ffca97e9888a8cd6bedf63cf2921e6e47\"\n",
    "ASTRA_DB_API_ENDPOINT=\"https://5addd634-5b69-48c7-8456-772b80b7e9d3-us-east-2.apps.astra.datastax.com\"\n",
    "ASTRA_DB_KEYSPACE=\"default_keyspace\" # A namespace that exists in this database\n",
    "#OPENAI_API_KEY=\"API_KEY\""
   ]
  },
  {
   "cell_type": "code",
   "execution_count": 83,
   "metadata": {},
   "outputs": [],
   "source": [
    "import os\n",
    "from langchain_astradb import AstraDBVectorStore\n",
    "from langchain.indexes import VectorstoreIndexCreator"
   ]
  },
  {
   "cell_type": "code",
   "execution_count": 95,
   "metadata": {},
   "outputs": [],
   "source": [
    "vstore = AstraDBVectorStore(\n",
    "    embedding=embeddings,\n",
    "    namespace=ASTRA_DB_KEYSPACE,\n",
    "    collection_name=\"multidocs1\",\n",
    "    token=ASTRA_DB_APPLICATION_TOKEN,\n",
    "    api_endpoint=ASTRA_DB_API_ENDPOINT,\n",
    ")"
   ]
  },
  {
   "cell_type": "code",
   "execution_count": 96,
   "metadata": {},
   "outputs": [],
   "source": [
    "inserted_ids = vstore.add_documents(docs)"
   ]
  },
  {
   "cell_type": "code",
   "execution_count": 97,
   "metadata": {},
   "outputs": [
    {
     "name": "stdout",
     "output_type": "stream",
     "text": [
      "\n",
      "Inserted 796 documents.\n"
     ]
    }
   ],
   "source": [
    "print(f\"\\nInserted {len(inserted_ids)} documents.\")"
   ]
  },
  {
   "cell_type": "code",
   "execution_count": 98,
   "metadata": {},
   "outputs": [
    {
     "name": "stdout",
     "output_type": "stream",
     "text": [
      "* and/or significant relationships, even though they are no\n",
      "longer helpless children.\n",
      "SYMBOLIZATION. The psychoanalytic model gives\n",
      "considerable weight to the symbolic aspect of humananxiety; examples include phobic disorders, obsessions,compulsions, and other forms of anxiety that are highlyindividualized. The length of the human maturationprocess allows many opportunities for children and ado-lescents to connect their experiences with certain objectsor events that can bring back feelings in later life. Forexample, a person who was frightened as a child by a tallman wearing glasses may feel panicky years later bysomething that reminds him of that person or experiencewithout consciously knowing why.\n",
      "Freud thought that anxiety results from a person’s\n",
      "internal conflicts. According to his theory, people feelanxious when they feel torn between desires or urgestoward certain actions, on the one hand, and moralrestrictions, on the other. In some cases, the person’sanxiety may attach itself to an object that represents theinner conflict. For example, someone who feels anxiousaround money may be pulled between a desire to stealand the belief that stealing is wrong. Money becomes asymbol for the inner conflict between doing what is con-sidered right and doing what one wants.\n",
      "PHOBIAS. Phobias are a special type of anxiety\n",
      "reaction in which the person’s anxiety is concentrated ona specific object or situation that the person then tries toavoid. In most cases, the person’s fear is out of all pro-portion to its “cause.” Prior to the Diagnostic and Statis-\n",
      "tical Manual of Mental Disorders, 4th edition (DSM-IV),\n",
      "these specific phobias were called simple phobias. It isestimated that 10-11% of the population will develop aphobia in the course of their lives. Some phobias, such asagoraphobia (fear of open spaces), claustrophobia (fear\n",
      "of small or confined spaces), and social phobia, areshared by large numbers of people. Others are less com-mon or unique to the patient.\n",
      "Social and environmental stressors\n",
      "Anxiety often has a social dimension because\n",
      "humans are social creatures. People frequently reportfeelings of high anxiety when they anticipate and, there-fore, fear the loss of social approval or love. Social phobiais a specific anxiety disorder that is marked by high levelsof anxiety or fear of embarrassment in social situations.\n",
      "Another social stressor is prejudice. People who\n",
      "belong to groups that are targets of bias are at higher riskfor developing anxiety disorders. Some experts think, forexample, that the higher rates of phobias and panic dis-\n",
      "order among women reflects their greater social and\n",
      "economic vulnerability.Some controversial studies indicate that the increase\n",
      "in violent or upsetting pictures and stories in newsreports and entertainment may raise the anxiety level ofmany people. Stress and anxiety management programsoften suggest that patients cut down their exposure toupsetting stimuli.\n",
      "Anxiety may also be caused by environmental or\n",
      "occupational factors. People who must live or workaround sudden or loud noises, bright or flashing lights,chemical vapors, or similar nuisances, which they cannotavoid or control, may develop heightened anxiety levels.\n",
      "Existential anxiety\n",
      "Another factor that shapes human experiences of\n",
      "anxiety is knowledge of personal mortality. Humans arethe only animals that appear to be aware of their limitedlife span. Some researchers think that awareness ofdeath influences experiences of anxiety from the time\n",
      "that a person is old enough to understand death.\n",
      "Symptoms of anxiety\n",
      "In order to understand the diagnosis and treatment of\n",
      "anxiety, it is helpful to have a basic understanding of itssymptoms.\n",
      "SOMATIC. The somatic or physical symptoms of\n",
      "anxiety include headaches, dizziness or lightheadedness,\n",
      "nausea and/or vomiting, diarrhea , tingling, pale com-\n",
      "plexion, sweating, numbness, difficulty in breathing, andsensations of tightness in the chest, neck, shoulders, orhands. These symptoms are produced by the hormonal,muscular, and cardiovascular reactions involved in thefight-or-flight reaction.\n",
      "BEHAVIORAL. Behavioral symptoms of anxiety\n",
      "include pacing, trembling, general restlessness, hyper-ventilation, pressured speech, hand wringing, or fingertapping.\n",
      "COGNITIVE. Cognitive symptoms of anxiety include\n",
      "recurrent or obsessive thoughts, feelings of doom, mor-bid or fear-inducing thoughts or ideas, and confusion, orinability to concentrate.\n",
      "EMOTIONAL. Feeling states associated with anxiety\n",
      "include tension or nervousness, feeling “hyper” or“keyed up,” and feelings of unreality, panic, or terror.\n",
      "DEFENSE MECHANISMS. In psychoanalytic theory,\n",
      "the symptoms of anxiety in humans may arise from oractivate a number of unconscious defense mechanisms.Because of these defenses, it is possible for a person tobe anxious without being consciously aware of it orappearing anxious to others. These psychological defens-es include:\n",
      "GALE ENCYCLOPEDIA OF MEDICINE 2 319AnxietyGEM - 0001 to 0432 - A  10/22/03 1:42 PM  Page 319 [{'source': 'E:/multidocsbot/data/Medical_book.pdf', 'page': 332}]\n",
      "* A 1997 Harvard study found that an estimated 15.4\n",
      "million Americans suffered from a gambling addiction.Over half that number (7.9 million) were adolescents.\n",
      "Causes and symptoms\n",
      "Addiction to substances results from the interaction\n",
      "of several factors:\n",
      "Drug chemistry\n",
      "Some substances are more addictive than others,\n",
      "either because they produce a rapid and intense change inmood; or because they produce painful withdrawalsymptoms when stopped suddenly.\n",
      "Genetic factor\n",
      "Some people appear to be more vulnerable to addic-\n",
      "tion because their body chemistry increases their sensi-tivity to drugs. Some forms of substance abuse and\n",
      "dependence seem to run in families; and this may be the\n",
      "result of a genetic predisposition, environmental influ-ences, or a combination of both.\n",
      "Brain structure and function\n",
      "Using drugs repeatedly over time changes brain\n",
      "structure and function in fundamental and long-lastingways. Addiction comes about through an array ofchanges in the brain and the strengthening of new memo-ry connections. Evidence suggests that those long-lastingbrain changes are responsible for the distortions of cog-nitive and emotional functioning that characterizeaddicts, particularly the compulsion to use drugs.Although the causes of addiction remain the subject ofongoing debate and research, many experts now consideraddiction to be a brain disease: a condition caused bypersistent changes in brain structure and function. How-ever, having this brain disease does not absolve theaddict of responsibility for his or her behavior, but it doesexplain why many addicts cannot stop using drugs bysheer force of will alone.\n",
      "Social learning\n",
      "Social learning is considered the most important sin-\n",
      "gle factor. It includes patterns of use in the addict’s fami-ly or subculture, peer pressure, and advertising or mediainfluence.\n",
      "Availability\n",
      "Inexpensive or readily available tobacco, alcohol, or\n",
      "drugs produce marked increases in rates of addiction.Individual development\n",
      "Before the 1980s, the so-called addictive personality\n",
      "was used to explain the development of addiction. Theaddictive personality was described as escapist, impul-sive, dependent, devious, manipulative, and self-cen-tered. Many doctors now believe that these charactertraits develop in addicts as a result of the addiction,rather than the traits being a cause of the addiction.\n",
      "Diagnosis\n",
      "In addition to a preoccupation with using and\n",
      "acquiring the abused substance, the diagnosis of addic-tion is based on five criteria:\n",
      "• loss of willpower\n",
      "• harmful consequences\n",
      "• unmanageable lifestyle• tolerance or escalation of use• withdrawal symptoms upon quitting\n",
      "GALE ENCYCLOPEDIA OF MEDICINE 2 51Addiction\n",
      "Crack users. Crack, a form of cocaine, is one of the most\n",
      "addictive drugs. (Photograph by Roy Marsch, The Stock Mar-\n",
      "ket. Reproduced by permission.)GEM - 0001 to 0432 - A  10/22/03 1:41 PM  Page 51 [{'source': 'E:/multidocsbot/data/Medical_book.pdf', 'page': 64}]\n",
      "* Overall rank: 98\n",
      "Country or region: Ghana\n",
      "Score: 4.996\n",
      "GDP per capita: 0.611\n",
      "Social support: 0.868\n",
      "Healthy life expectancy: 0.486\n",
      "Freedom to make life choices: 0.381\n",
      "Generosity: 0.245\n",
      "Perceptions of corruption: 0.040 [{'source': 'E:/multidocsbot/data/2019.csv', 'row': 97}]\n"
     ]
    }
   ],
   "source": [
    "results = vstore.similarity_search(\"Our life is what we make of it\", k=3)\n",
    "for res in results:\n",
    "    print(f\"* {res.page_content} [{res.metadata}]\")"
   ]
  },
  {
   "cell_type": "code",
   "execution_count": null,
   "metadata": {},
   "outputs": [],
   "source": [
    "prompt_template = \"\"\"\n",
    "You are an AI philosopher drawing insights from the roadmap of \"rag,\" \"llama3,\" and \"genai.\"\n",
    "Craft thoughtful answers based on this roadmap, mixing and matching existing paths.\n",
    "Your responses should be concise and strictly related to the provided context.\n",
    "\n",
    "ROADMAP CONTEXT:\n",
    "{context}\n",
    "\n",
    "QUESTION: {question}\n",
    "\n",
    "YOUR ANSWER:\"\"\""
   ]
  },
  {
   "cell_type": "code",
   "execution_count": null,
   "metadata": {},
   "outputs": [],
   "source": [
    "prompt_template = ChatPromptTemplate.from_template(prompt_template)"
   ]
  }
 ],
 "metadata": {
  "kernelspec": {
   "display_name": "venv",
   "language": "python",
   "name": "python3"
  },
  "language_info": {
   "codemirror_mode": {
    "name": "ipython",
    "version": 3
   },
   "file_extension": ".py",
   "mimetype": "text/x-python",
   "name": "python",
   "nbconvert_exporter": "python",
   "pygments_lexer": "ipython3",
   "version": "3.10.5"
  },
  "orig_nbformat": 4
 },
 "nbformat": 4,
 "nbformat_minor": 2
}
